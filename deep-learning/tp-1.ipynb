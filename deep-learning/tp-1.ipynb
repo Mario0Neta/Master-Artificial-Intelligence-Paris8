{
 "cells": [
  {
   "cell_type": "markdown",
   "id": "8bbd00bd",
   "metadata": {},
   "source": [
    "## TP1 - Statistique descriptive unidimensionnelle (exercice du cours)"
   ]
  },
  {
   "cell_type": "markdown",
   "id": "0ddc5660",
   "metadata": {},
   "source": [
    "Refaire l’exemple de statistique descriptive unidimensionnelle (slides 18-24)\n",
    "\n",
    "[Effectifs, effectifs cumulés, fréquences et fréquences cumulées](#effectifs-effectifs-cumulés-fréquences-et-fréquences-cumulées)\n",
    "[Représentations graphiques](#représentations-graphiques)  \n",
    "[Le diagramme en bâtons + Le diagramme cumulatif](#le-diagramme-en-bâtons--le-diagramme-cumulatif)  \n",
    "[La médiane (quantile d’ordre 1/2) et les quartiles (quantile d’ordre1/4, 3/4)](#la-médiane-quantile-dordre-12-et-les-quartiles-quantile-dordre14-34)  \n",
    "[La moyenne](#la-moyenne)  \n",
    "[La dispersion](#la-dispersion)  \n",
    "[La variance et l’écart–type](#la-variance-et-lécart–type)\n"
   ]
  },
  {
   "cell_type": "code",
   "execution_count": 80,
   "id": "c7be622b",
   "metadata": {
    "vscode": {
     "languageId": "r"
    }
   },
   "outputs": [
    {
     "data": {
      "text/plain": [
       "   Min. 1st Qu.  Median    Mean 3rd Qu.    Max. \n",
       "  24.00   36.00   44.00   43.62   52.00   62.00 "
      ]
     },
     "metadata": {},
     "output_type": "display_data"
    }
   ],
   "source": [
    "df <- c(\n",
    "    43, 29, 57, 45, 50, 29, 37, 59, 46, 31, 46, 24, 33, 38, 49, 31,\n",
    "    62, 60, 52, 38, 38, 26, 41, 52, 60, 49, 52, 41, 38, 26, 37, 59,\n",
    "    57, 41, 29, 33, 33, 43, 46, 57, 46, 33, 46, 49, 57, 57, 46, 43\n",
    ")\n",
    "summary(df)"
   ]
  },
  {
   "cell_type": "markdown",
   "id": "d7102e41",
   "metadata": {},
   "source": [
    "### effectifs, effectifs cumulés, fréquences et fréquences cumulées"
   ]
  },
  {
   "cell_type": "code",
   "execution_count": 81,
   "id": "b2214959",
   "metadata": {
    "vscode": {
     "languageId": "r"
    }
   },
   "outputs": [],
   "source": [
    "donnes <- table(df)\n",
    "effectifs_cumules <- cumsum(donnes)\n",
    "frequences <- donnes / sum(donnes) \n",
    "frequences <-  round(frequences * 100, 2)\n",
    "frequences_cumulees <- cumsum(frequences)"
   ]
  },
  {
   "cell_type": "code",
   "execution_count": null,
   "id": "b1f8ad58",
   "metadata": {
    "vscode": {
     "languageId": "r"
    }
   },
   "outputs": [
    {
     "name": "stdout",
     "output_type": "stream",
     "text": [
      "   Points Effectif Effectif_cumule Frequence Frequence_cumulee\n",
      "1      24        1               1      2.08              2.08\n",
      "2      26        2               3      4.17              6.25\n",
      "3      29        3               6      6.25             12.50\n",
      "4      31        2               8      4.17             16.67\n",
      "5      33        4              12      8.33             25.00\n",
      "6      37        2              14      4.17             29.17\n",
      "7      38        4              18      8.33             37.50\n",
      "8      41        3              21      6.25             43.75\n",
      "9      43        3              24      6.25             50.00\n",
      "10     45        1              25      2.08             52.08\n",
      "11     46        6              31     12.50             64.58\n",
      "12     49        3              34      6.25             70.83\n",
      "13     50        1              35      2.08             72.91\n",
      "14     52        3              38      6.25             79.16\n",
      "15     57        5              43     10.42             89.58\n",
      "16     59        2              45      4.17             93.75\n",
      "17     60        2              47      4.17             97.92\n",
      "18     62        1              48      2.08            100.00\n"
     ]
    }
   ],
   "source": [
    "resultat <- df.frame(\n",
    "  Points = as.numeric(names(donnes)),\n",
    "  Effectif = as.vector(donnes),\n",
    "  Effectif_cumule = as.vector(effectifs_cumules),\n",
    "  Frequence = as.vector(frequences),\n",
    "  Frequence_cumulee = as.vector(frequences_cumulees)\n",
    ")\n",
    "print(resultat)"
   ]
  },
  {
   "cell_type": "markdown",
   "id": "e854061c",
   "metadata": {},
   "source": [
    "##### Représentations graphiques"
   ]
  },
  {
   "cell_type": "code",
   "execution_count": 85,
   "id": "2cf085db",
   "metadata": {
    "vscode": {
     "languageId": "r"
    }
   },
   "outputs": [
    {
     "data": {
      "image/png": "[encoded data removed]",
      "text/plain": [
       "Plot with title \"Effectifs par valeur\""
      ]
     },
     "metadata": {
      "image/png": {
       "height": 420,
       "width": 420
      }
     },
     "output_type": "display_data"
    },
    {
     "data": {
      "image/png": "[encoded data removed]",
      "text/plain": [
       "Plot with title \"Diagramme cumulatif des effectifs\""
      ]
     },
     "metadata": {
      "image/png": {
       "height": 420,
       "width": 420
      }
     },
     "output_type": "display_data"
    }
   ],
   "source": [
    "# Diagramme en bâtons des effectifs\n",
    "barplot(donnes, \n",
    "        main = \"Effectifs par valeur\", \n",
    "        xlab = \"Valeur\", \n",
    "        ylab = \"Effectif\", \n",
    "        col = \"skyblue\")\n",
    "\n",
    "\n",
    "# Diagramme cumulatif (courbe cumulative)\n",
    "plot(as.numeric(names(donnes)), effectifs_cumules, \n",
    "     type = \"s\", \n",
    "     main = \"Diagramme cumulatif des effectifs\", \n",
    "     xlab = \"Valeur\", \n",
    "     ylab = \"Effectif cumulé\", \n",
    "     col = \"red\", lwd = 2)\n"
   ]
  },
  {
   "cell_type": "markdown",
   "id": "4599b2c2",
   "metadata": {},
   "source": [
    "#### La médiane (quantile d’ordre 1/2) et les quartiles (quantile d’ordre1/4, 3/4)"
   ]
  },
  {
   "cell_type": "code",
   "execution_count": 93,
   "id": "e5028c0f",
   "metadata": {
    "vscode": {
     "languageId": "r"
    }
   },
   "outputs": [
    {
     "name": "stdout",
     "output_type": "stream",
     "text": [
      "25% 50% 75% \n",
      " 36  44  52 \n"
     ]
    },
    {
     "data": {
      "image/png": "[encoded data removed]",
      "text/plain": [
       "Plot with title \"Box Plot\""
      ]
     },
     "metadata": {
      "image/png": {
       "height": 420,
       "width": 420
      }
     },
     "output_type": "display_data"
    }
   ],
   "source": [
    "quartiles <- quantile(df, probs = c(0.25, 0.5, 0.75))\n",
    "print(quartiles)\n",
    "boxplot(df,\n",
    "        main = \"Box Plot\",\n",
    "        xlab = \"\",\n",
    "        ylab = \"Values\",\n",
    "        border = \"black\")"
   ]
  },
  {
   "cell_type": "markdown",
   "id": "6dc52897",
   "metadata": {},
   "source": [
    "##### La moyenne"
   ]
  },
  {
   "cell_type": "code",
   "execution_count": 63,
   "id": "2afece0f",
   "metadata": {
    "vscode": {
     "languageId": "r"
    }
   },
   "outputs": [
    {
     "data": {
      "text/html": [
       "'Moyenne : 43.625'"
      ],
      "text/latex": [
       "'Moyenne : 43.625'"
      ],
      "text/markdown": [
       "'Moyenne : 43.625'"
      ],
      "text/plain": [
       "[1] \"Moyenne : 43.625\""
      ]
     },
     "metadata": {},
     "output_type": "display_data"
    }
   ],
   "source": [
    "moyenne <- mean(df)\n",
    "paste(\"Moyenne :\", moyenne)"
   ]
  },
  {
   "cell_type": "markdown",
   "id": "7c998cf5",
   "metadata": {},
   "source": [
    "##### La dispersion"
   ]
  },
  {
   "cell_type": "code",
   "execution_count": 86,
   "id": "16289593",
   "metadata": {
    "vscode": {
     "languageId": "r"
    }
   },
   "outputs": [
    {
     "name": "stdout",
     "output_type": "stream",
     "text": [
      "[1] \"Dispersion (étendue) : 38\"\n",
      "[1] \"Dispersion interquartille : 16\"\n",
      "[1] \"Écart moyen à la moyenne : 8.83333333333333\"\n",
      "[1] \"Écart moyen à la mediane : 8.83333333333333\"\n"
     ]
    }
   ],
   "source": [
    "dispersion <- max(df) - min(df)\n",
    "print(paste(\"Dispersion (étendue) :\", dispersion))\n",
    "\n",
    "dispersion_interquartille <- quartiles[3] - quartiles[1]\n",
    "print(paste(\"Dispersion interquartille :\", dispersion_interquartille))\n",
    "\n",
    "ecart_moyen_moyenne <- mean(abs(df - moyenne))\n",
    "print(paste(\"Écart moyen à la moyenne :\", ecart_moyen_moyenne))\n",
    "\n",
    "ecart_moyen_mediane <- mean(abs(df - quartiles[2]))\n",
    "print(paste(\"Écart moyen à la mediane :\", ecart_moyen_mediane))"
   ]
  },
  {
   "cell_type": "markdown",
   "id": "62d8af5d",
   "metadata": {},
   "source": [
    "#### La variance et l’écart–type"
   ]
  },
  {
   "cell_type": "code",
   "execution_count": 66,
   "id": "60e7a698",
   "metadata": {
    "vscode": {
     "languageId": "r"
    }
   },
   "outputs": [
    {
     "data": {
      "text/html": [
       "'Variance : 112.11170212766'"
      ],
      "text/latex": [
       "'Variance : 112.11170212766'"
      ],
      "text/markdown": [
       "'Variance : 112.11170212766'"
      ],
      "text/plain": [
       "[1] \"Variance : 112.11170212766\""
      ]
     },
     "metadata": {},
     "output_type": "display_data"
    },
    {
     "data": {
      "text/html": [
       "'Écart-type : 10.5882813585425'"
      ],
      "text/latex": [
       "'Écart-type : 10.5882813585425'"
      ],
      "text/markdown": [
       "'Écart-type : 10.5882813585425'"
      ],
      "text/plain": [
       "[1] \"Écart-type : 10.5882813585425\""
      ]
     },
     "metadata": {},
     "output_type": "display_data"
    }
   ],
   "source": [
    "# Variance\n",
    "variance <- var(df)\n",
    "paste(\"Variance :\", variance)\n",
    "\n",
    "# Écart-type\n",
    "ecart_type <- sd(df)\n",
    "paste(\"Écart-type :\", ecart_type)"
   ]
  }
 ],
 "metadata": {
  "kernelspec": {
   "display_name": "R",
   "language": "R",
   "name": "ir"
  },
  "language_info": {
   "codemirror_mode": "r",
   "file_extension": ".r",
   "mimetype": "text/x-r-source",
   "name": "R",
   "pygments_lexer": "r",
   "version": "4.5.1"
  }
 },
 "nbformat": 4,
 "nbformat_minor": 5
}
