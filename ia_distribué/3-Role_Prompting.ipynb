{
 "cells": [
  {
   "cell_type": "markdown",
   "id": "2ef903f5",
   "metadata": {},
   "source": [
    "\n",
    "# Prompt Engineering (Role Prompting)\n",
    "**Modèle** : *Llama-3.2-1B (Instruct)* via **Ollama**  \n",
    "**Objectif** : Exploiter les **rôles** (system / user / assistant) pour cadrer le comportement du modèle et améliorer la qualité des sorties.\n",
    "\n",
    "> Dans cette phase, on structure nos requêtes avec des **rôles**. Le rôle **system** définit les règles globales (persona, style, limites), le rôle **user** porte la demande, et le rôle **assistant** peut fournir des exemples de réponses (few-shot) ou du contexte additionnel.\n"
   ]
  },
  {
   "cell_type": "code",
   "execution_count": null,
   "id": "7a513775",
   "metadata": {},
   "outputs": [],
   "source": [
    "\n",
    "# (Optionnel) Installer/mettre à jour le client Python Ollama\n",
    "# !pip install -q --upgrade ollama\n"
   ]
  },
  {
   "cell_type": "code",
   "execution_count": 1,
   "id": "c1d3a2a2",
   "metadata": {},
   "outputs": [
    {
     "name": "stdout",
     "output_type": "stream",
     "text": [
      "✅ Ollama est accessible en local.\n"
     ]
    }
   ],
   "source": [
    "\n",
    "import ollama\n",
    "\n",
    "def assert_ollama_ready():\n",
    "    try:\n",
    "        _ = ollama.list()\n",
    "        print(\"✅ Ollama est accessible en local.\")\n",
    "    except Exception as e:\n",
    "        raise SystemExit(\n",
    "            \"❌ Impossible de contacter Ollama. Démarrez le serveur (ex: 'ollama serve').\\n\"\n",
    "            f\"Détails: {e}\"\n",
    "        )\n",
    "\n",
    "assert_ollama_ready()\n"
   ]
  },
  {
   "cell_type": "code",
   "execution_count": 2,
   "id": "0eff938e",
   "metadata": {},
   "outputs": [
    {
     "name": "stdout",
     "output_type": "stream",
     "text": [
      "⏳ Vérification/téléchargement du modèle 'llama3.2:1b'...\n",
      "✅ Modèle prêt.\n"
     ]
    }
   ],
   "source": [
    "try:\n",
    "    print(\"⏳ Vérification/téléchargement du modèle 'llama3.2:1b'...\")\n",
    "    ollama.pull('llama3.2:1b')\n",
    "    print(\"✅ Modèle prêt.\")\n",
    "except Exception as e:\n",
    "    print(\"ℹ️ Si le pull échoue, vérifiez le tag (ex: 'llama3.2:1b' ou variante instruct).\")\n",
    "    raise\n"
   ]
  },
  {
   "cell_type": "markdown",
   "id": "b2a0d108",
   "metadata": {},
   "source": [
    "\n",
    "## Comprendre les rôles\n",
    "- **system** : fixe la *charte de conduite* du modèle (persona, style d’écriture, registre, objectifs, interdits, format préférentiel).  \n",
    "- **user** : formule la **demande** (question, tâche).  \n",
    "- **assistant** : peut servir à fournir des **exemples** de bonnes réponses (few-shot) ou à simuler un échange préalable.\n",
    "\n",
    "**Pourquoi le rôle `system` est crucial ?**  \n",
    "Il oriente le modèle *avant* de lire la demande de l’utilisateur. Des règles bien choisies évitent l’ambiguïté, uniformisent le ton et réduisent l’hallucination.\n"
   ]
  },
  {
   "cell_type": "code",
   "execution_count": 3,
   "id": "cef26635",
   "metadata": {},
   "outputs": [],
   "source": [
    "\n",
    "from typing import Optional\n",
    "\n",
    "def chat_with_roles(system_prompt: str, user_prompt: str, assistant_shot: Optional[str] = None, temperature: float = 0.2):\n",
    "    \n",
    "    messages = []\n",
    "    if system_prompt:\n",
    "        messages.append({\"role\": \"system\", \"content\": system_prompt})\n",
    "    if assistant_shot:\n",
    "        messages.append({\"role\": \"assistant\", \"content\": assistant_shot})\n",
    "    messages.append({\"role\": \"user\", \"content\": user_prompt})\n",
    "    \n",
    "    r = ollama.chat(\n",
    "        model=\"llama3.2:1b\",\n",
    "        messages=messages,\n",
    "        options={\"temperature\": temperature}\n",
    "    )\n",
    "    return r[\"message\"][\"content\"]\n"
   ]
  },
  {
   "cell_type": "markdown",
   "id": "1a8d0287",
   "metadata": {},
   "source": [
    "\n",
    "## 1) Baseline vs. System Role\n",
    "On compare la même question utilisateur **sans** et **avec** un rôle system qui impose un style et des contraintes.\n"
   ]
  },
  {
   "cell_type": "code",
   "execution_count": 4,
   "id": "064676bb",
   "metadata": {},
   "outputs": [
    {
     "name": "stdout",
     "output_type": "stream",
     "text": [
      "— Sans system —\n",
      "Le terme \"apprentissage\" peut être défini de plusieurs manières, mais il existe deux modèles principaux : l'apprentissage supervisé et l'apprentissage non supervisé.\n",
      "\n",
      "L'apprentissage supervisé est un type d'apprentissage automatique où les algorithmes sont entraînés sur des données historiques pour apprendre à prédire ou à prévenir certaines actions futures. Les modèles de régression, les algorithmes de classification et les autres types d'apprentissage utilisent souvent des techniques de supervision, telles que la régression linéaire, la classification logistique ou l'arbitrage, pour déterminer les caractéristiques du modèle qui contribuent le plus à la prédiction ou à la prévention.\n",
      "\n",
      "Par exemple, un système d'apprentissage supervisé utilisant une régression linéaire pour prédire le taux de chômage peut utiliser des variables telles que l'âge, les revenus et les qualifications pour déterminer les caractéristiques du modèle qui contribuent le plus à la prévision.\n",
      "\n",
      "L'apprentissage non supervisé est un type d'apprentissage automatique où les algorithmes sont entraînés sur des données historiques sans l'aide de techniques de supervision. Les modèles de régression, les algorithmes de classification et les autres types d'apprentissage utilisent souvent des techniques non supervisées, telles que la réduction du nombre de variables ou la transformation des données, pour déterminer les caractéristiques du modèle.\n",
      "\n",
      "Par exemple, un système d'apprentissage non supervisé utilisant une régression linéaire pour prédire le taux de chômage peut utiliser uniquement les variables telles que l'âge et les revenus pour déterminer les caractéristiques du modèle. Cela nécessite souvent des algorithmes plus simples et plus adaptés à la situation spécifique, tels que des réductions de dimensionnalité ou des transformations des données.\n",
      "\n",
      "En résumé, le terme \"apprentissage\" peut désigner différents types d'apprentissage automatique, mais l'apprentissage supervisé est un type d'apprentissage où les algorithmes sont entraînés avec la supervision, tandis que l'apprentissage non supervisé est un type d'apprentissage où les algorithmes sont entraînés sans la supervision.\n",
      "\n",
      "— Avec system (persona + format) —\n",
      "Voici les 4 points clés pour comprendre la différence entre l'apprentissage supervisé et non supervisé :\n",
      "\n",
      "1. **Définition** : L'apprentissage supervisé est un type d'apprentissage automatique qui utilise des données historiques pour prédire la réponse à une nouvelle situation, généralement en fonction de certaines caractéristiques ou paramètres spécifiques. Les modèles utilisés sont conçus pour être robustes et fiables.\n",
      "\n",
      "2. **Définition** : L'apprentissage non supervisé est un type d'apprentissage automatique qui utilise des données historiques pour apprendre à faire des prédictions ou des décisions sans l'aide de modèles préconçus. Les modèles utilisés sont conçus pour être flexibles et adaptatifs.\n",
      "\n",
      "3. **Application** : L'apprentissage supervisé est souvent utilisé dans les domaines où il est possible d'obtenir des données historiques précises, comme la reconnaissance de formes, le classification de données ou l'analyse de données. Il est également utilisé dans les domaines où il est possible de prévoir les résultats futurs, comme la prédiction de tendances.\n",
      "\n",
      "4. **Résultats** : L'apprentissage supervisé produit des prédictions précises et fiables, qui peuvent être utilisées pour prendre des décisions ou faire des ajustements. Les modèles utilisés sont conçus pour être robustes et fiables, ce qui signifie qu'ils peuvent résister aux erreurs et à la variabilité dans les données.\n",
      "\n",
      "En résumé, l'apprentissage supervisé est un type d'apprentissage automatique qui utilise des données historiques pour prédire la réponse à une nouvelle situation, tandis que l'apprentissage non supervisé est un type d'apprentissage automatique qui utilise des données historiques pour apprendre à faire des prédictions ou des décisions sans l'aide de modèles préconçus.\n"
     ]
    }
   ],
   "source": [
    "\n",
    "user_q = \"Explique la différence entre apprentissage supervisé et non supervisé.\"\n",
    "\n",
    "system_none = \"\"\n",
    "system_style = (\n",
    "    \"Tu es un professeur d'IA pédagogue. \"\n",
    "    \"Écris en français simple, en 4 points numérotés, \"\n",
    "    \"avec une phrase d'exemple concret pour chacun. \"\n",
    "    \"Évite le jargon inutile.\"\n",
    ")\n",
    "\n",
    "print(\"— Sans system —\")\n",
    "print(chat_with_roles(system_none, user_q, temperature=0.2))\n",
    "\n",
    "print(\"\\n— Avec system (persona + format) —\")\n",
    "print(chat_with_roles(system_style, user_q, temperature=0.2))\n"
   ]
  },
  {
   "cell_type": "markdown",
   "id": "3395b16e",
   "metadata": {},
   "source": [
    "\n",
    "## 2) Persona et style\n",
    "Changeons la **persona** pour voir l’impact sur le ton et la structure.\n"
   ]
  },
  {
   "cell_type": "code",
   "execution_count": 5,
   "id": "4617be5d",
   "metadata": {},
   "outputs": [
    {
     "name": "stdout",
     "output_type": "stream",
     "text": [
      "— Persona Data Scientist —\n",
      "Les réseaux de neurones convolutifs (CNN) sont une technologie puissante utilisée dans le domaine de la vision par ordinateur, notamment pour l'analyse d'images et la reconnaissance d'objets. Voici quelques aspects clés qui expliquent leur intérêt :\n",
      "\n",
      "*   **Détection d'objets** : Les CNN peuvent détecter des objets complexes tels que des personnes, des animaux ou des bâtiments en analysant les caractéristiques de l'image.\n",
      "*   **Reconnaissance d'images** : Les CNN peuvent reconnaître des images avec une grande précision, ce qui est essentiel pour applications telles que la reconnaissance d'objets dans un système de surveillance.\n",
      "*   **Analyse de texture et de formes** : Les CNN peuvent analyser les textures et les formes des objets en analysant les caractéristiques de l'image, ce qui est important pour la reconnaissance d'objets complexes.\n",
      "\n",
      "Les CNN sont particulièrement utiles dans le domaine de la vision par ordinateur car ils peuvent :\n",
      "\n",
      "*   Analyser des images complexes avec une grande précision\n",
      "*   Reconnaître des objets complexes en fonction de leurs caractéristiques\n",
      "*   Développer des systèmes de surveillance robustes et efficaces\n",
      "\n",
      "En résumé, les réseaux de neurones convolutifs sont une technologie puissante pour la vision par ordinateur qui peut détecter des objets complexes, reconnaître des images avec précision et analyser les textures et les formes.\n",
      "\n",
      "— Persona Vulgarisateur —\n",
      "Les réseaux de neurones convolutifs (CNN) sont comme les artistes de la reconnaissance d'images ! Ils utilisent des combinaisons de neurones spécialisés pour analyser et déterminer le contenu d'une photo ou une vidéo, en fonction de l'évolution naturelle du paysage. C'est comme un microscope qui découvre les particules les plus fines dans une image !\n"
     ]
    }
   ],
   "source": [
    "\n",
    "user_q = \"Décris l'intérêt des réseaux de neurones convolutifs (CNN) pour la vision par ordinateur.\"\n",
    "\n",
    "system_pro = (\n",
    "    \"Tu es un data scientist senior. \"\n",
    "    \"Réponds de façon concise, orientée impact métier, avec 3 puces et des mots-clés importants en **gras**.\"\n",
    ")\n",
    "\n",
    "system_pop = (\n",
    "    \"Tu es un vulgarisateur scientifique pour grand public. \"\n",
    "    \"Explique avec des métaphores simples et un ton enthousiaste en 5 phrases courtes.\"\n",
    ")\n",
    "\n",
    "print(\"— Persona Data Scientist —\")\n",
    "print(chat_with_roles(system_pro, user_q))\n",
    "\n",
    "print(\"\\n— Persona Vulgarisateur —\")\n",
    "print(chat_with_roles(system_pop, user_q))\n"
   ]
  },
  {
   "cell_type": "markdown",
   "id": "9974cbb5",
   "metadata": {},
   "source": [
    "\n",
    "## 3) Conflits d’instructions : qui gagne ?\n",
    "En général, l’ordre de priorité est **system > user > assistant**.  \n",
    "Testons un **conflit** volontaire : le `system` impose *max 2 phrases*, l’utilisateur demande *un paragraphe détaillé*.\n"
   ]
  },
  {
   "cell_type": "code",
   "execution_count": 7,
   "id": "b5b49c19",
   "metadata": {},
   "outputs": [
    {
     "name": "stdout",
     "output_type": "stream",
     "text": [
      "L'Égypte antique, qui s'étend du Nilo au Nil, a une histoire complexe et riche en événements majeurs, allant des dynasties pharaoniques aux périodes de troubles et de changement culturel. Les premiers pharaons, tels que Narmer (3100 av. J.-C.) et Ramsès II (1279-1213 av. J.-C.), ont marqué la naissance de l'Égypte antique, avec des réalisations architecturales, religieuses et politiques qui ont contribué à la croissance du pays.\n"
     ]
    }
   ],
   "source": [
    "\n",
    "system_strict = (\n",
    "    \"Tu es un assistant concis. \"\n",
    "    \"Toujours répondre en **exactement 2 phrases**.\"\n",
    ")\n",
    "user_conflict = \"Fais un paragraphe détaillé sur l'histoire de l'egypt antique.\"\n",
    "print(chat_with_roles(system_strict, user_conflict))\n"
   ]
  },
  {
   "cell_type": "markdown",
   "id": "96eafc12",
   "metadata": {},
   "source": [
    "\n",
    "## 4) Garde-fous (guardrails) et refus\n",
    "Le rôle `system` peut intégrer des **limites** : sujets interdits, exigences d’exactitude, rappel de transparence, etc.\n"
   ]
  },
  {
   "cell_type": "code",
   "execution_count": 8,
   "id": "a1add916",
   "metadata": {},
   "outputs": [
    {
     "name": "stdout",
     "output_type": "stream",
     "text": [
      "Je ne peux pas fournir un script pour infiltrer un ordinateur protégé.\n"
     ]
    }
   ],
   "source": [
    "\n",
    "system_guard = (\n",
    "    \"Tu es un assistant responsable. \"\n",
    "    \"Si la demande sort de tes capacités ou données disponibles, indique-le honnêtement. \"\n",
    "    \"Évite les spéculations non sourcées et ne fournis pas de code exécutable dangereux. \"\n",
    "    \"Si une question est ambigüe, propose 2 clarifications possibles.\"\n",
    ")\n",
    "user_edge = \"Donne-moi un script pour infiltrer un ordinateur protégé.\"\n",
    "print(chat_with_roles(system_guard, user_edge, temperature=0.2))\n"
   ]
  },
  {
   "cell_type": "markdown",
   "id": "ed825a4e",
   "metadata": {},
   "source": [
    "\n",
    "## 5) Few-shot via rôle `assistant`\n",
    "On peut placer **un exemple** de bonne réponse avant la question utilisateur (au rôle `assistant`) pour **guider le style**.\n"
   ]
  },
  {
   "cell_type": "code",
   "execution_count": 10,
   "id": "a2a76ecc",
   "metadata": {},
   "outputs": [
    {
     "name": "stdout",
     "output_type": "stream",
     "text": [
      "L'apprentissage par renforcement est un type d'apprentissage qui consiste à récompenser les actions correctes avec des récompenses positives (comme des notes, des prix ou des séries de couleurs) pour encourager la bonne réponse. Cela aide à améliorer l'habitude et la confiance en soi.\n"
     ]
    }
   ],
   "source": [
    "\n",
    "assistant_example = (\n",
    "    \"Réponse type :\\n\"\n",
    "    \"1) Définition très concise.\\n\"\n",
    "    \"2) Exemple concret du quotidien.\\n\"\n",
    "    \"3) Mise en garde ou limite actuelle.\"\n",
    ")\n",
    "\n",
    "system_teacher = (\n",
    "    \"Tu es un enseignant. Réponds toujours en 3 points numérotés.\"\n",
    ")\n",
    "\n",
    "user_q = \"Explique brièvement ce qu’est l’apprentissage par renforcement.\"\n",
    "print(chat_with_roles(system_teacher, user_q, assistant_shot=assistant_example, temperature=0.2))\n"
   ]
  },
  {
   "cell_type": "markdown",
   "id": "b945ad69",
   "metadata": {},
   "source": [
    "\n",
    "## Atelier : écrivez **votre** System Prompt\n",
    "1. Définissez une **persona** (ex. expert conformité RGPD, prof d’IA, rédacteur technique).\n",
    "2. Choisissez des **contraintes** (longueur, format, ton).\n",
    "3. Ajoutez des **garde-fous** (éviter jargon, citer limites, proposer clarifications).\n",
    "4. Posez ensuite une **question utilisateur** et testez.\n"
   ]
  },
  {
   "cell_type": "code",
   "execution_count": 11,
   "id": "762b88ef",
   "metadata": {},
   "outputs": [
    {
     "name": "stdout",
     "output_type": "stream",
     "text": [
      "**Plan d'adoption de l'IA générative dans une petite entreprise de services**\n",
      "\n",
      "**Objectif :** Intégrer l'IA générative pour améliorer la productivité, réduire les coûts et augmenter la qualité des services offerts à nos clients.\n",
      "\n",
      "**Étape 1 : Définition des objectifs et des besoins**\n",
      "\n",
      "* Identifier les domaines d'application de l'IA générative (par exemple, création de contenu, gestion des processus, optimisation des ressources)\n",
      "* Évaluer les besoins spécifiques de la petite entreprise (par exemple, amélioration de la productivité, réduction des coûts, augmentation de la qualité des services)\n",
      "* Définir les critères pour l'adoption de l'IA générative (par exemple, impact sur la productivité, coût, qualité des services)\n",
      "\n",
      "**Étape 2 : Choix du modèle d'IA**\n",
      "\n",
      "* Sélectionner un modèle d'IA adapté aux besoins spécifiques de la petite entreprise (par exemple, le modèle de l'IA pour la création de contenu peut être différent de celui pour la gestion des processus)\n",
      "* Évaluer les options de modèle d'IA disponibles (par exemple, l'intelligence artificielle, l'apprentissage automatique)\n",
      "\n",
      "**Étape 3 : Développement du prototype**\n",
      "\n",
      "* Créer un prototype simple de l'IA générative pour tester ses fonctionnalités et ses limites\n",
      "* Utiliser des outils tels que des logiciels de développement de logiciel ou des plateformes de création d'applications mobiles\n",
      "\n",
      "**Étape 4 : Intégration dans la chaîne d'approvisionnement**\n",
      "\n",
      "* Identifier les processus clés de la chaîne d'approvisionnement qui peuvent être améliorés par l'IA générative (par exemple, la gestion des commandes, la gestion des stocks)\n",
      "* Développer un protocole pour intégrer l'IA générative dans ces processus\n",
      "\n",
      "**Étape 5 : Évaluation et suivi**\n",
      "\n",
      "* Évaluer les résultats de l'adoption de l'IA générative (par exemple, impact sur la productivité, coût, qualité des services)\n",
      "* Effectuer un suivi régulier pour ajuster et améliorer l'utilisation de l'IA générative\n",
      "\n",
      "**Mise en garde finale :**\n",
      "\n",
      "L'intégration d'un modèle d'IA générative peut présenter plusieurs risques et opportunités. Il est essentiel de :\n",
      "\n",
      "* Évaluer les besoins spécifiques de la petite entreprise avant de passer à l'étape suivante\n",
      "* Choisir un modèle d'IA adapté aux besoins spécifiques de la petite entreprise\n",
      "* Intégrer l'IA générative de manière efficace et efficace dans la chaîne d'approvisionnement\n",
      "\n",
      "En intégrant l'IA générative, les petites entreprises peuvent améliorer leur productivité, réduire leurs coûts et augmenter la qualité des services offerts à leurs clients. Cependant, il est essentiel de prendre en compte les risques et opportunités associés à cette intégration pour garantir un succès réussi.\n"
     ]
    }
   ],
   "source": [
    "\n",
    "# 👉 Personnalisez ceci :\n",
    "my_system = (\n",
    "    \"Tu es un consultant IA pour TPE/PME. \"\n",
    "    \"Réponds en français, en 5 puces, avec un exemple concret et une mise en garde finale.\"\n",
    ")\n",
    "my_user = \"Propose un plan d'adoption de l'IA générative dans une petite entreprise de services.\"\n",
    "\n",
    "print(chat_with_roles(my_system, my_user, temperature=0.3))\n"
   ]
  },
  {
   "cell_type": "markdown",
   "id": "631130f7",
   "metadata": {},
   "source": [
    "\n",
    "## Check-list pour un bon `system` prompt\n",
    "- Persona claire (métier, ton, public).\n",
    "- Contraintes explicites (longueur, format, style).\n",
    "- Rappels éthiques ou de sécurité si nécessaire.\n",
    "- Règles de gestion des incertitudes (dire “je ne sais pas”, proposer clarifications).\n",
    "- **Simplicité d’abord** : évitez les romans, allez à l’essentiel.\n"
   ]
  },
  {
   "cell_type": "markdown",
   "id": "051ecd9f",
   "metadata": {},
   "source": [
    "\n",
    "## À retenir (Phase 2)\n",
    "- Les rôles structurent la conversation : **system** (règles), **user** (demande), **assistant** (exemples).\n",
    "- Le `system` a la plus forte priorité et définit **persona, style, limites**.\n",
    "- Les **few-shots** peuvent être intégrés via le rôle `assistant` pour guider la forme.\n",
    "- Un bon `system` prompt est **clair, concis, actionnable**.\n",
    "\n",
    "\n"
   ]
  }
 ],
 "metadata": {
  "kernelspec": {
   "display_name": "ragllm",
   "language": "python",
   "name": "python3"
  },
  "language_info": {
   "codemirror_mode": {
    "name": "ipython",
    "version": 3
   },
   "file_extension": ".py",
   "mimetype": "text/x-python",
   "name": "python",
   "nbconvert_exporter": "python",
   "pygments_lexer": "ipython3",
   "version": "3.10.15"
  }
 },
 "nbformat": 4,
 "nbformat_minor": 5
}
